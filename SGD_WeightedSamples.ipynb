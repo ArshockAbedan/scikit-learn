{
  "nbformat": 4,
  "nbformat_minor": 0,
  "metadata": {
    "colab": {
      "name": "SGD:WeightedSamples.ipynb",
      "provenance": [],
      "authorship_tag": "ABX9TyM7QpwjHh09kfqnNdjap2uf",
      "include_colab_link": true
    },
    "kernelspec": {
      "name": "python3",
      "display_name": "Python 3"
    },
    "language_info": {
      "name": "python"
    }
  },
  "cells": [
    {
      "cell_type": "markdown",
      "metadata": {
        "id": "view-in-github",
        "colab_type": "text"
      },
      "source": [
        "<a href=\"https://colab.research.google.com/github/ArshockAbedan/scikit-learn/blob/main/SGD_WeightedSamples.ipynb\" target=\"_parent\"><img src=\"https://colab.research.google.com/assets/colab-badge.svg\" alt=\"Open In Colab\"/></a>"
      ]
    },
    {
      "cell_type": "markdown",
      "source": [
        "# SGD: Weighted samples"
      ],
      "metadata": {
        "id": "pTEsIgEA_8T6"
      }
    },
    {
      "cell_type": "code",
      "execution_count": 1,
      "metadata": {
        "id": "GxAjXFVX_2UE"
      },
      "outputs": [],
      "source": [
        "import numpy as np\n",
        "import matplotlib.pyplot as plt\n",
        "from sklearn import linear_model"
      ]
    },
    {
      "cell_type": "code",
      "source": [
        "np.random.seed(20)"
      ],
      "metadata": {
        "id": "PK7cJZxCAPfb"
      },
      "execution_count": 2,
      "outputs": []
    },
    {
      "cell_type": "code",
      "source": [
        "np.random.rand(10,2) + [1, 1]"
      ],
      "metadata": {
        "colab": {
          "base_uri": "https://localhost:8080/"
        },
        "id": "5_KBVjhvAppA",
        "outputId": "d98c4aa5-f1ed-471f-d7ef-7486ae5d4107"
      },
      "execution_count": 4,
      "outputs": [
        {
          "output_type": "execute_result",
          "data": {
            "text/plain": [
              "array([[1.85762553, 1.94977903],\n",
              "       [1.56168686, 1.17878052],\n",
              "       [1.77025193, 1.49238104],\n",
              "       [1.63125307, 1.83949792],\n",
              "       [1.4610394 , 1.49794007],\n",
              "       [1.67941112, 1.65078591],\n",
              "       [1.26879524, 1.06732467],\n",
              "       [1.77144514, 1.48098413],\n",
              "       [1.32920641, 1.51064106],\n",
              "       [1.26362883, 1.31051155]])"
            ]
          },
          "metadata": {},
          "execution_count": 4
        }
      ]
    },
    {
      "cell_type": "code",
      "source": [
        "X = np.r_[np.random.rand(10,2) + [1, 1], np.random.rand(10,2)]"
      ],
      "metadata": {
        "id": "1g6dIqFlAUiE"
      },
      "execution_count": 33,
      "outputs": []
    },
    {
      "cell_type": "code",
      "source": [
        "y = [1] * 10 + [-1] * 10 "
      ],
      "metadata": {
        "id": "XsU51efGA_6_"
      },
      "execution_count": 34,
      "outputs": []
    },
    {
      "cell_type": "code",
      "source": [
        "sample_weight = 100 * np.abs(np.random.rand(20))"
      ],
      "metadata": {
        "id": "CbNpWdA5Boc9"
      },
      "execution_count": 35,
      "outputs": []
    },
    {
      "cell_type": "code",
      "source": [
        "sample_weight[:10] *= 10"
      ],
      "metadata": {
        "id": "zr2M9aDYCEPH"
      },
      "execution_count": 36,
      "outputs": []
    },
    {
      "cell_type": "code",
      "source": [
        "# plot the weighted data points\n",
        "xx, yy = np.meshgrid(np.linspace(-4, 5, 500), np.linspace(-4, 5, 500))\n",
        "plt.figure()\n",
        "plt.scatter(X[:,0],X[:,1], c=y, s=sample_weight,alpha=0.9, cmap=plt.cm.coolwarm_r,edgecolors=\"black\")"
      ],
      "metadata": {
        "colab": {
          "base_uri": "https://localhost:8080/",
          "height": 283
        },
        "id": "MhpIMokhDGOp",
        "outputId": "27776c0b-e2e7-40c3-f749-73a312cb9553"
      },
      "execution_count": 38,
      "outputs": [
        {
          "output_type": "execute_result",
          "data": {
            "text/plain": [
              "<matplotlib.collections.PathCollection at 0x7f6a9738f890>"
            ]
          },
          "metadata": {},
          "execution_count": 38
        },
        {
          "output_type": "display_data",
          "data": {
            "image/png": "[encoded data removed]",
            "text/plain": [
              "<Figure size 432x288 with 1 Axes>"
            ]
          },
          "metadata": {
            "needs_background": "light"
          }
        }
      ]
    },
    {
      "cell_type": "code",
      "source": [
        "clf = linear_model.SGDClassifier(alpha=0.01, max_iter=100)\n",
        "clf.fit(X,y)\n",
        "Z = clf.decision_function(np.c_[xx.ravel(), yy.ravel()])\n",
        "Z = Z.reshape(xx.shape)\n",
        "no_weights = plt.contour(xx, yy, Z, levels=[0], linestyles=[\"solid\"])\n",
        "\n",
        "# fit the weighted model\n",
        "clf = linear_model.SGDClassifier(alpha=0.01, max_iter=500)\n",
        "clf.fit(X, y, sample_weight=sample_weight)\n",
        "Z = clf.decision_function(np.c_[xx.ravel(), yy.ravel()])\n",
        "Z = Z.reshape(xx.shape)\n",
        "samples_weights = plt.contour(xx, yy, Z, levels=[0], linestyles=[\"dashed\"])\n",
        "\n",
        "plt.legend(\n",
        "    [no_weights.collections[0], samples_weights.collections[0]],\n",
        "    [\"no weights\", \"with weights\"],\n",
        "    loc=\"lower left\",\n",
        ")\n",
        "\n",
        "# plt.xticks(())\n",
        "# plt.yticks(())\n",
        "plt.show()"
      ],
      "metadata": {
        "colab": {
          "base_uri": "https://localhost:8080/",
          "height": 269
        },
        "id": "Rewld7JvCh9L",
        "outputId": "c31df6ee-4749-4bbd-9909-7082203651ce"
      },
      "execution_count": 41,
      "outputs": [
        {
          "output_type": "display_data",
          "data": {
            "image/png": "[encoded data removed]",
            "text/plain": [
              "<Figure size 432x288 with 1 Axes>"
            ]
          },
          "metadata": {
            "needs_background": "light"
          }
        }
      ]
    },
    {
      "cell_type": "code",
      "source": [
        ""
      ],
      "metadata": {
        "id": "YgCDunMSGMF1"
      },
      "execution_count": null,
      "outputs": []
    }
  ]
}